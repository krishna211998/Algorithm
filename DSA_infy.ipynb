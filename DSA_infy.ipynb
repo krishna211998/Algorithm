{
 "cells": [
  {
   "cell_type": "code",
   "execution_count": 1,
   "metadata": {},
   "outputs": [
    {
     "name": "stdout",
     "output_type": "stream",
     "text": [
      "Empty list created!!!\n",
      "List details:\n",
      "Capacity: 7\n",
      "Size: 0\n",
      "Space Left: 7\n"
     ]
    }
   ],
   "source": [
    "#Do not remove the below import statement\n",
    "import sys\n",
    "\n",
    "'''This function provides the capacity, size and space left in the list.\n",
    "You can invoke it to get the details of the list'''\n",
    "\n",
    "def list_details(lst):\n",
    "    #Number of elements that can be stored in the list\n",
    "    print(\"Capacity:\", (sys.getsizeof(lst)-36)//4)\n",
    "\n",
    "    #Number of elements in the list\n",
    "    print(\"Size:\", len(lst))\n",
    "\n",
    "    #Number of elements that can be accommodated in the space left\n",
    "    print(\"Space Left:\", ((sys.getsizeof(lst)-36) - len(lst*4))//4)\n",
    "\n",
    "    #formula changes based on the system architecture\n",
    "    #(size-36)/4 for 32 bit machines and\n",
    "    #(size-64)/8 for 64 bit machines\n",
    "\n",
    "    # 36, 64 - size of an empty list based on machine\n",
    "    # 4, 8 - size of a single element in the list based on machine\n",
    "\n",
    "marias_lst=[]\n",
    "print(\"Empty list created!!!\")\n",
    "print(\"List details:\")\n",
    "list_details(marias_lst)"
   ]
  },
  {
   "cell_type": "code",
   "execution_count": 2,
   "metadata": {},
   "outputs": [
    {
     "name": "stdout",
     "output_type": "stream",
     "text": [
      "Empty list created!!!\n",
      "List details:\n",
      "Capacity: 7\n",
      "Size: 0\n",
      "Space Left: 7\n",
      "Maria's list after adding Sugar:\n",
      "['Sugar']\n",
      "List details:\n",
      "Capacity: 15\n",
      "Size: 1\n",
      "Space Left: 14\n",
      "['Sugar', 'Tea Bags', 'Milk', 'Biscuit']\n",
      "List details:\n",
      "Capacity: 15\n",
      "Size: 4\n",
      "Space Left: 11\n",
      "['Sugar', 'Salt', 'Tea Bags', 'Milk', 'Biscuit']\n",
      "List details:\n",
      "Capacity: 23\n",
      "Size: 5\n",
      "Space Left: 18\n"
     ]
    }
   ],
   "source": [
    "#Do not remove the below import statement\n",
    "import sys\n",
    "\n",
    "'''This function provides the capacity, size and space left in the list.\n",
    "You can invoke it to get the details of the list'''\n",
    "\n",
    "def list_details(lst):\n",
    "    #Number of elements that can be stored in the list\n",
    "    print(\"Capacity:\", (sys.getsizeof(lst)-36)//4)\n",
    "\n",
    "    #Number of elements in the list\n",
    "    print(\"Size:\", len(lst))\n",
    "\n",
    "    #Number of elements that can be accommodated in the space left\n",
    "    print(\"Space Left:\", ((sys.getsizeof(lst)-36) - len(lst*4))//4)\n",
    "\n",
    "    #formula changes based on the system architecture\n",
    "    #(size-36)/4 for 32 bit machines and\n",
    "    #(size-64)/8 for 64 bit machines\n",
    "\n",
    "    # 36,64 - size of an empty list based on machine\n",
    "    # 4,8 - size of a single element in the list based on machine\n",
    "\n",
    "marias_lst=[]\n",
    "print(\"Empty list created!!!\")\n",
    "print(\"List details:\")\n",
    "list_details(marias_lst)\n",
    "\n",
    "\n",
    "marias_lst.append(\"Sugar\")\n",
    "print(\"Maria's list after adding Sugar:\")\n",
    "print(marias_lst)\n",
    "print(\"List details:\")\n",
    "list_details(marias_lst)\n",
    "\n",
    "\n",
    "marias_lst.append(\"Tea Bags\")\n",
    "marias_lst.append(\"Milk\")\n",
    "marias_lst.append(\"Biscuit\")\n",
    "print(marias_lst)\n",
    "print(\"List details:\")\n",
    "list_details(marias_lst)\n",
    "\n",
    "marias_lst.insert(1,\"Salt\")\n",
    "# insert means index and value\n",
    "print(marias_lst)\n",
    "print(\"List details:\")\n",
    "list_details(marias_lst)\n",
    "                                              "
   ]
  },
  {
   "cell_type": "code",
   "execution_count": 1,
   "metadata": {},
   "outputs": [
    {
     "name": "stdout",
     "output_type": "stream",
     "text": [
      "Search results:\n",
      "Jack   56789   Jack_xyz@infosys.com\n",
      "Jackson   67895   Jackson_xyz@infosys.com\n",
      "Henry Jack   23456   Jacky_xyz@infosys.com\n"
     ]
    },
    {
     "data": {
      "text/plain": [
       "[<__main__.Employee at 0x1f54c1e3f08>,\n",
       " <__main__.Employee at 0x1f54c1dc448>,\n",
       " <__main__.Employee at 0x1f54c1dc4c8>]"
      ]
     },
     "execution_count": 1,
     "metadata": {},
     "output_type": "execute_result"
    }
   ],
   "source": [
    "class Employee:\n",
    "    def __init__(self, name, emp_id, email_id):\n",
    "        self.__name=name\n",
    "        self.__emp_id=emp_id\n",
    "        self.__email_id=email_id\n",
    "\n",
    "    def get_name(self):\n",
    "        return self.__name\n",
    "\n",
    "    def get_emp_id(self):\n",
    "        return self.__emp_id\n",
    "\n",
    "    def get_email_id(self):\n",
    "        return self.__email_id\n",
    "\n",
    "class InfosysDirectory:\n",
    "    def __init__(self,emp_list):\n",
    "        self.__emp_list=emp_list\n",
    "\n",
    "    def lookup(self,key_name):\n",
    "        result_list=[]\n",
    "        for emp in self.__emp_list:\n",
    "            if(key_name in emp.get_name()):\n",
    "                result_list.append(emp)\n",
    "        self.display(result_list)\n",
    "        return result_list\n",
    "\n",
    "    def display(self,result_list):\n",
    "        print(\"Search results:\")\n",
    "        for emp in result_list:\n",
    "            print(emp.get_name(),\" \", emp.get_emp_id(),\" \",emp.get_email_id())\n",
    "\n",
    "\n",
    "\n",
    "emp1=Employee(\"Kevin\",24089, \"Kevin_xyz@infosys.com\")\n",
    "emp2=Employee(\"Jack\",56789,\"Jack_xyz@infosys.com\")\n",
    "emp3=Employee(\"Jackson\",67895,\"Jackson_xyz@infosys.com\")\n",
    "emp4=Employee(\"Henry Jack\",23456,\"Jacky_xyz@infosys.com\")\n",
    "emp_list=[emp1,emp2,emp3,emp4]\n",
    "\n",
    "infy_dir=InfosysDirectory(emp_list)\n",
    "#Search for an employee\n",
    "infy_dir.lookup(\"Jack\")   \n",
    "        \n",
    "    "
   ]
  },
  {
   "cell_type": "markdown",
   "metadata": {},
   "source": [
    "#  Getter and Setter \n",
    "    "
   ]
  },
  {
   "cell_type": "code",
   "execution_count": 2,
   "metadata": {},
   "outputs": [
    {
     "name": "stdout",
     "output_type": "stream",
     "text": [
      "21\n",
      "21\n"
     ]
    }
   ],
   "source": [
    "# Python program showing a use \n",
    "# of get() and set() method in \n",
    "# normal function \n",
    "  \n",
    "class Geek: \n",
    "    def __init__(self, age = 0): \n",
    "         self._age = age \n",
    "      \n",
    "    # getter method \n",
    "    def get_age(self): \n",
    "        return self._age \n",
    "      \n",
    "    # setter method \n",
    "    def set_age(self, x): \n",
    "        self._age = x \n",
    "  \n",
    "raj = Geek() \n",
    "  \n",
    "# setting the age using setter \n",
    "raj.set_age(21) \n",
    "  \n",
    "# retrieving age using getter \n",
    "print(raj.get_age()) \n",
    "# get_age to access private variable\n",
    "  \n",
    "print(raj._age) \n",
    "# printing private variable\n"
   ]
  },
  {
   "cell_type": "code",
   "execution_count": 5,
   "metadata": {},
   "outputs": [
    {
     "name": "stdout",
     "output_type": "stream",
     "text": [
      "setter method called\n",
      "getter method called\n",
      "10\n"
     ]
    }
   ],
   "source": [
    "\n",
    "# Python program showing a \n",
    "# use of property() function \n",
    "  \n",
    "class Geeks: \n",
    "    def __init__(self): \n",
    "        self._age = 0\n",
    "       \n",
    "     # function to get value of _age \n",
    "    def get_age(self): \n",
    "        print(\"getter method called\") \n",
    "        return self._age \n",
    "       \n",
    "     # function to set value of _age \n",
    "    def set_age(self, a): \n",
    "        print(\"setter method called\") \n",
    "        self._age = a \n",
    "  \n",
    "     # function to delete _age attribute \n",
    "    def del_age(self): \n",
    "        del self._age \n",
    "     \n",
    "    age = property(get_age, set_age, del_age)  \n",
    "  \n",
    "mark= Geeks() \n",
    "  \n",
    "mark.age = 10\n",
    "  \n",
    "print(mark.age) \n"
   ]
  },
  {
   "cell_type": "markdown",
   "metadata": {},
   "source": [
    "# using @property decorators t achieve getters and setters"
   ]
  },
  {
   "cell_type": "code",
   "execution_count": 6,
   "metadata": {},
   "outputs": [
    {
     "name": "stdout",
     "output_type": "stream",
     "text": [
      "setter method called\n",
      "getter method called\n",
      "19\n"
     ]
    }
   ],
   "source": [
    "class Geeks: \n",
    "     def __init__(self): \n",
    "          self._age = 0\n",
    "       \n",
    "     # using property decorator \n",
    "     # a getter function \n",
    "     @property\n",
    "     def age(self): \n",
    "         print(\"getter method called\") \n",
    "         return self._age \n",
    "       \n",
    "     # a setter function \n",
    "     @age.setter \n",
    "     def age(self, a): \n",
    "         if(a < 18): \n",
    "            raise ValueError(\"Sorry you age is below eligibility criteria\") \n",
    "         print(\"setter method called\") \n",
    "         self._age = a \n",
    "  \n",
    "mark = Geeks() \n",
    "  \n",
    "mark.age = 19\n",
    "  \n",
    "print(mark.age) "
   ]
  },
  {
   "cell_type": "markdown",
   "metadata": {},
   "source": [
    "# Dsa sssignment1"
   ]
  },
  {
   "cell_type": "code",
   "execution_count": null,
   "metadata": {},
   "outputs": [],
   "source": []
  },
  {
   "cell_type": "code",
   "execution_count": null,
   "metadata": {},
   "outputs": [],
   "source": []
  },
  {
   "cell_type": "code",
   "execution_count": null,
   "metadata": {},
   "outputs": [],
   "source": []
  }
 ],
 "metadata": {
  "kernelspec": {
   "display_name": "Python 3",
   "language": "python",
   "name": "python3"
  },
  "language_info": {
   "codemirror_mode": {
    "name": "ipython",
    "version": 3
   },
   "file_extension": ".py",
   "mimetype": "text/x-python",
   "name": "python",
   "nbconvert_exporter": "python",
   "pygments_lexer": "ipython3",
   "version": "3.7.4"
  }
 },
 "nbformat": 4,
 "nbformat_minor": 2
}

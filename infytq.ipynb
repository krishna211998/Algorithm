{
 "cells": [
  {
   "cell_type": "code",
   "execution_count": null,
   "metadata": {},
   "outputs": [],
   "source": [
    "input_string=input()\n",
    "str1=[]\n",
    "final_str=''\n",
    "str1=input().split(',')\n",
    "for i in str1:\n",
    "    str2=str1.split(':')\n",
    "    sp1=str2[0]\n",
    "    sp2=str2[1]\n",
    "    length=len(sp1)\n",
    "    for j in sp2:\n",
    "        if(int(j)<=length):\n",
    "            if(max<int(j)):\n",
    "                max=int(j)\n",
    "                \n",
    "    if(max==0):\n",
    "        final_str+='X'\n",
    "    else:\n",
    "        final_str+=sp1[max-1]\n",
    "print(final_str)"
   ]
  },
  {
   "cell_type": "code",
   "execution_count": null,
   "metadata": {},
   "outputs": [],
   "source": [
    "str1=''\n",
    "str2=raw_input()\n",
    "length=len(str2)\n",
    "for odd in range(1,length,2):\n",
    "    str1+=str(int(str2[odd])**2)\n",
    "print(str1[0:4])\n",
    "   \n",
    "    "
   ]
  },
  {
   "cell_type": "code",
   "execution_count": null,
   "metadata": {},
   "outputs": [],
   "source": [
    "a=int(input())\n",
    "print(a)"
   ]
  },
  {
   "cell_type": "code",
   "execution_count": null,
   "metadata": {},
   "outputs": [],
   "source": [
    "\n",
    "def reverseDigits(num):\n",
    "    rev_num=0\n",
    "    while(num>0):\n",
    "        rev_num=rev_num*10+num%10\n",
    "        num=num/10\n",
    "    return rev_num\n",
    "def ispallindrome(num):\n",
    "    return(reverseDigits(num)==num)\n",
    "\n",
    "# reverse and add function\n",
    "def ReverseandAdd(num):\n",
    "    rev_num=0\n",
    "    while(num<=4294967295):\n",
    "        # reversing digits of number\n",
    "        rev_num=reverseDigits(num)\n",
    "        # adding reversed number with original\n",
    "        num+=rev_num\n",
    "        if(ispallindrome(num)):\n",
    "            print(num)\n",
    "            break\n",
    "        else:\n",
    "            if(num>4294967295):\n",
    "                print (\" no pallindrome exists\")\n",
    "                \n",
    "# t=int(input())\n",
    "ReverseandAdd(195)"
   ]
  },
  {
   "cell_type": "markdown",
   "metadata": {},
   "source": [
    "# hackerrank easy qns"
   ]
  },
  {
   "cell_type": "code",
   "execution_count": 4,
   "metadata": {},
   "outputs": [
    {
     "name": "stdout",
     "output_type": "stream",
     "text": [
      "1\n",
      "lol.fh\n",
      "lol.fh\n"
     ]
    }
   ],
   "source": [
    "# reverse words in a string each word in astring is separated by(.) krish.ranjan o/p ranjan.krish\n",
    "t=int(input())\n",
    "while(t!=0):\n",
    "    inp1=input()\n",
    "    inp=inp1.split(\",\")\n",
    "    # print(inp[1])\n",
    "    inp.reverse()\n",
    "    print(\",\".join(inp))\n",
    "    t-=1"
   ]
  },
  {
   "cell_type": "code",
   "execution_count": 1,
   "metadata": {},
   "outputs": [
    {
     "name": "stdout",
     "output_type": "stream",
     "text": [
      "1\n",
      "5\n",
      "1 1 0 1 0\n",
      "3\n"
     ]
    }
   ],
   "source": [
    "# binary string..means find substring starting wrh 1 nd ending wth 1 \n",
    "t=int(input())\n",
    "while(t!=0):\n",
    "    n=int(input())\n",
    "    li=list(input())\n",
    "    c=li.count(\"1\")\n",
    "    total=c*(c-1)\n",
    "    print(total//2)\n",
    "    t-=1"
   ]
  },
  {
   "cell_type": "code",
   "execution_count": 5,
   "metadata": {},
   "outputs": [
    {
     "name": "stdout",
     "output_type": "stream",
     "text": [
      "1\n",
      "ABC\n",
      "ABC ACB BAC BCA CAB CBA "
     ]
    }
   ],
   "source": [
    "# print permutations of string\n",
    "from itertools import permutations\n",
    "t=int(input())\n",
    "while(t!=0):\n",
    "    string=input()\n",
    "    p_tuples=permutations(string)\n",
    "    p_list=[]\n",
    "    #print(list(p_tuples))\n",
    "    # permutations return generator .. a simple way of creating iterators (returns an object which we can iterate over..)\n",
    "    # so to print permutations we use list of object.\n",
    "    for i in p_tuples:\n",
    "        joinstring=''.join(i)\n",
    "        p_list.append(joinstring)\n",
    "        \n",
    "        # .join will join ('A','B','C' to empty string)\n",
    "    p_list.sort()\n",
    "    for i in list(p_list):\n",
    "        print(i,end=' ')\n",
    "    t-=1\n",
    "    "
   ]
  },
  {
   "cell_type": "code",
   "execution_count": 13,
   "metadata": {},
   "outputs": [
    {
     "data": {
      "text/plain": [
       "' \\nwe can use filter() fn to filter values from given sequence based on some condn\\nfilter(function,sequence) .\\nfunction argument is responsible to perform conditional check\\nif we have 10 elements the output will contain <= 10 elements\\n'"
      ]
     },
     "execution_count": 13,
     "metadata": {},
     "output_type": "execute_result"
    }
   ],
   "source": [
    "# filter fn\n",
    "''' \n",
    "we can use filter() fn to filter values from given sequence based on some condn\n",
    "filter(function,sequence) .\n",
    "function argument is responsible to perform conditional check\n",
    "if we have 10 elements the output will contain <= 10 elements\n",
    "'''"
   ]
  },
  {
   "cell_type": "code",
   "execution_count": 14,
   "metadata": {},
   "outputs": [
    {
     "data": {
      "text/plain": [
       "' \\nmap() fn.. for every element present in given sequence,apply some fn and generate new element wth required modification\\nma(function,sequence)\\nfn arguement is applied to each element of sequence and generate new sequence\\n'"
      ]
     },
     "execution_count": 14,
     "metadata": {},
     "output_type": "execute_result"
    }
   ],
   "source": [
    "''' \n",
    "map() fn.. for every element present in given sequence,apply some fn and generate new element wth required modification\n",
    "ma(function,sequence)\n",
    "fn arguement is applied to each element of sequence and generate new sequence\n",
    "'''"
   ]
  },
  {
   "cell_type": "code",
   "execution_count": 21,
   "metadata": {},
   "outputs": [
    {
     "name": "stdout",
     "output_type": "stream",
     "text": [
      "1\n",
      "5\n",
      "1 2 3 5\n",
      "4\n"
     ]
    }
   ],
   "source": [
    "# find missing number in array\n",
    "t=int(input())\n",
    "def sum(list_element):\n",
    "    g=0\n",
    "    length=len(list_element)\n",
    "    for i in range(length):\n",
    "        g+=list_element[i]\n",
    "    return g\n",
    "while(t!=0):\n",
    "    n=int(input())\n",
    "    # we will convert into map as sequence of element has been talked here\n",
    "    list_element=list(map(int,input().split()))\n",
    "    total=(n*(n+1))//2\n",
    "    sum_total=sum(list_element)\n",
    "    print(int(total-sum_total))\n",
    "    t-=1"
   ]
  },
  {
   "cell_type": "code",
   "execution_count": 19,
   "metadata": {},
   "outputs": [
    {
     "data": {
      "text/plain": [
       "'\\n    input.strip().split()\\n\\nsplit() is used to create a Python list out of a string. If no delimiter is given, this breaks the string by spaces. So, now we have: [“1”, “2”, “4”, “42”]\\n\\n    map(int, input().strip().split())\\n\\nmap() takes two arguments. The first one is the method to apply, the second one is the data to apply it to. By this understanding, we can see this is doing nothing but typecasting every element of the list to an integer value. Since map returns the data type it was applied to, the list() method applied over map() is redundant. So now we have covered the following:\\n\\n    list(map(int, input().strip().split()))'"
      ]
     },
     "execution_count": 19,
     "metadata": {},
     "output_type": "execute_result"
    }
   ],
   "source": [
    "'''\n",
    "    input.strip().split()\n",
    "\n",
    "split() is used to create a Python list out of a string. If no delimiter is given, this breaks the string by spaces. So, now we have: [“1”, “2”, “4”, “42”]\n",
    "\n",
    "    map(int, input().strip().split())\n",
    "\n",
    "map() takes two arguments. The first one is the method to apply, the second one is the data to apply it to. By this understanding, we can see this is doing nothing but typecasting every element of the list to an integer value. Since map returns the data type it was applied to, the list() method applied over map() is redundant. So now we have covered the following:\n",
    "\n",
    "    list(map(int, input().strip().split()))'''"
   ]
  },
  {
   "cell_type": "code",
   "execution_count": 24,
   "metadata": {},
   "outputs": [
    {
     "name": "stdout",
     "output_type": "stream",
     "text": [
      "()\n",
      "0\n"
     ]
    }
   ],
   "source": [
    "# bracket balancing'\n",
    "inp=input()\n",
    "left=0\n",
    "right=0\n",
    "for i in inp:\n",
    "    if(i=='('):\n",
    "        left+=1\n",
    "    else:\n",
    "        right+=1\n",
    "print(abs(right-left))"
   ]
  },
  {
   "cell_type": "code",
   "execution_count": 4,
   "metadata": {},
   "outputs": [
    {
     "name": "stdout",
     "output_type": "stream",
     "text": [
      "1\n",
      "3 2\n",
      "10\n"
     ]
    }
   ],
   "source": [
    "# reach to origin from any point\n",
    "\n",
    "\n",
    "t=int(input())  \n",
    "def path_1(x,y):\n",
    "    if(x==0 or y==0):\n",
    "        return 1\n",
    "    else:\n",
    "        # as suppose if we have to reach at (0,0) then before reaching let we have x and y paths just beforre reaching origin \n",
    "        # ototal ways =x+y(m-1,n+n,m-1)\n",
    "        return(path_1(x-1,y)+ path_1(x,y-1))\n",
    "while(t!=0):\n",
    "    x,y=list(map(int,input().split()))\n",
    "    t-=1\n",
    "print(path_1(x,y))"
   ]
  },
  {
   "cell_type": "code",
   "execution_count": 14,
   "metadata": {},
   "outputs": [
    {
     "name": "stdout",
     "output_type": "stream",
     "text": [
      "1 2 6 100\n",
      "['1', '100', '2', '6']\n",
      "126100\n"
     ]
    }
   ],
   "source": [
    "# print maximum number from digits\n",
    "inp=input().split()\n",
    "inp1=list(inp)\n",
    "inp1.sort()\n",
    "print(list(inp1))\n",
    "lst=list(inp)\n",
    "jn=''\n",
    "length=len(lst)\n",
    "for i in range(length):\n",
    "    jn+=''.join(lst[i])\n",
    "print(jn)\n",
    "# wrong method below is correct way ...."
   ]
  },
  {
   "cell_type": "code",
   "execution_count": 16,
   "metadata": {},
   "outputs": [
    {
     "name": "stdout",
     "output_type": "stream",
     "text": [
      "1 2 6 100\n",
      "621100\n"
     ]
    }
   ],
   "source": [
    "# find maxm number formed from given integer.. e..g.. 1,2,6,100 maxm will be 621100..\n",
    "# if use sort fn maxm wil be 100621 not maxm ...so we should use another approach..\n",
    "# use permutations and then find maxm..\n",
    "from itertools import permutations\n",
    "inp=input().split()\n",
    "tpl_permutation=permutations(inp)\n",
    "max_lst=[]\n",
    "for i in tpl_permutation:\n",
    "    value=int(''.join(i))\n",
    "    max_lst.append(value)\n",
    "print(max(max_lst))"
   ]
  },
  {
   "cell_type": "code",
   "execution_count": 3,
   "metadata": {},
   "outputs": [
    {
     "name": "stdout",
     "output_type": "stream",
     "text": [
      "5 10 30 40 20 2\n",
      "1 2 4 5 3 0 \n",
      " 5\n"
     ]
    }
   ],
   "source": [
    "# reduce array 5,10,30,40,20 print 0,1,3,4,2..\n",
    "# this qsn demnads use of dictionary \n",
    "inp=list(map(int,input().split()))\n",
    "inp1=inp.copy()\n",
    "length=len(inp)\n",
    "inp1.sort()\n",
    "dictionary={}\n",
    "for i in range(length):\n",
    "    dictionary[inp1[i]]=i\n",
    "for j in range(length):\n",
    "    print(dictionary[inp[j]],end=\" \")\n",
    "# print(\"\\n\",i)\n",
    "    \n",
    "\n"
   ]
  },
  {
   "cell_type": "code",
   "execution_count": 3,
   "metadata": {},
   "outputs": [
    {
     "name": "stdout",
     "output_type": "stream",
     "text": [
      "2\n",
      "5\n",
      "3 1 3 3 2\n",
      "3\n",
      "3\n",
      "1 2 3\n",
      "-1\n"
     ]
    }
   ],
   "source": [
    "# find majority element occuring mre than n/2 times\n",
    "t=int(input())\n",
    "while(t!=0):\n",
    "    n=int(input())\n",
    "    inp=list(map(int,input().split()))\n",
    "    count_list=[0]*(10000001)\n",
    "    for i in inp:\n",
    "        count_list[i]+=1\n",
    "    max_value=max(count_list)\n",
    "    if(max_value>n//2):\n",
    "        k=count_list.index(max_value)\n",
    "        print(k)\n",
    "    else:\n",
    "        print(-1)\n",
    "    t-=1"
   ]
  },
  {
   "cell_type": "code",
   "execution_count": 5,
   "metadata": {},
   "outputs": [
    {
     "name": "stdout",
     "output_type": "stream",
     "text": [
      "1 2 3\n",
      "1 2 3 "
     ]
    }
   ],
   "source": [
    "lst=input().split()\n",
    "for i in lst:\n",
    "    print(i,end=\" \")\n",
    "    # means for i in list ..i indicates values in list not index \n",
    "    # when we use range range we use index not values"
   ]
  },
  {
   "cell_type": "code",
   "execution_count": 1,
   "metadata": {},
   "outputs": [
    {
     "name": "stdout",
     "output_type": "stream",
     "text": [
      "2\n",
      "231*+9-\n",
      "-4\n",
      "123+*8-\n",
      "-3\n"
     ]
    }
   ],
   "source": [
    "# postfix evaluation\n",
    "t=int(input())\n",
    "while(t!=0):\n",
    "    inp=input()\n",
    "    stack=[]\n",
    "    for digit in inp:\n",
    "        if(digit.isnumeric()):\n",
    "            stack.append(digit)\n",
    "        else:\n",
    "            num1=int(stack.pop())\n",
    "            num2=int(stack.pop())\n",
    "            if(digit=='*'):\n",
    "                num3=num2*num1\n",
    "                stack.append(num3)\n",
    "            if(digit=='+'):\n",
    "                num3=num2+num1\n",
    "                stack.append(num3)\n",
    "            if(digit=='-'):\n",
    "                num3=num2-num1\n",
    "                stack.append(num3)\n",
    "            if(digit=='/'):\n",
    "                num3=num2//num1\n",
    "                stack.append(num3) \n",
    "    t-=1\n",
    "    print(stack[0])"
   ]
  },
  {
   "cell_type": "code",
   "execution_count": null,
   "metadata": {},
   "outputs": [
    {
     "name": "stdout",
     "output_type": "stream",
     "text": [
      "1\n",
      "CdE\n",
      "Abc\n",
      "4\n"
     ]
    }
   ],
   "source": [
    "# printing anagrams e..g anagrams of RAM is..MAR,ARM,AMR,RMA\n",
    "# means containing all the chars..here in qsn delete chars so that two strnsgs become anagrams\n",
    "t=int(input())\n",
    "while(t!=0):\n",
    "    inp1=input()\n",
    "    inp2=input()\n",
    "    t1=inp1.lower()\n",
    "    t2=inp2.lower()\n",
    "#     print(t1)\n",
    "#     print(t2)\n",
    "    s1_count=[0]*26\n",
    "    s2_count=[0]*26\n",
    "    for i in range(len(t1)):\n",
    "        s1_count[ord(t1[i])-97]+=1\n",
    "    for j in range(len(t2)):\n",
    "        s2_count[ord(t2[j])-97]+=1\n",
    "    deletion=0\n",
    "    for i in range(26):\n",
    "        deletion+=abs(s1_count[i]-s2_count[i])\n",
    "    print(deletion)\n",
    "# ord value returns ASCII value\n",
    "    "
   ]
  },
  {
   "cell_type": "code",
   "execution_count": 4,
   "metadata": {},
   "outputs": [
    {
     "name": "stdout",
     "output_type": "stream",
     "text": [
      "2\n",
      "E#R##C\n",
      "FTA##\n",
      "Yes\n",
      "B\n",
      "C\n",
      "No\n"
     ]
    }
   ],
   "source": [
    "# if u find # increase the previous char by 1\n",
    "def calculator(strr):\n",
    "    length=len(strr)\n",
    "    str=list(strr)\n",
    "    for i in range(length):\n",
    "        if(str[i]=='#'):\n",
    "            for j in range(i-1,-1,-1):\n",
    "                # range(i-1,-1,-1 ) means stop at -1 (exclude -1) so we can't use (i-1,0,-1).\n",
    "                if(str[j].isalpha()):\n",
    "                    if(str[j]=='Z'):\n",
    "                        str[j]='A'\n",
    "                        break\n",
    "                    else:\n",
    "                        str[j]=chr(ord(str[j])+1)\n",
    "                        # convert into list for assignments\n",
    "                        break\n",
    "    return (''.join(str))\n",
    "\n",
    "t=int(input())\n",
    "while(t!=0):\n",
    "    str1=input()\n",
    "    str2=input()\n",
    "    s1=calculator(str1)\n",
    "    s2=calculator(str2)\n",
    "    t1=''.join(s1.split(\"#\"))\n",
    "    t2=''.join(s2.split(\"#\"))\n",
    "    if(t1==t2):\n",
    "        print(\"Yes\")\n",
    "    else:\n",
    "        print(\"No\")\n",
    "    t-=1\n",
    "    \n"
   ]
  },
  {
   "cell_type": "code",
   "execution_count": 1,
   "metadata": {},
   "outputs": [
    {
     "name": "stdout",
     "output_type": "stream",
     "text": [
      "1\n",
      "8\n",
      "I have been coding for 48 months now\n",
      "14\n"
     ]
    }
   ],
   "source": [
    "# find sum of specific word 14\n",
    "import re\n",
    "t=int(input())\n",
    "while(t!=0):\n",
    "    words=input()\n",
    "    string=input()\n",
    "    t1=re.findall(\"[abdegopq490oADRPQ6]\",string)\n",
    "    t2=re.findall(\"[B8]\",string)\n",
    "    print(len(t1)+len(t2)*2)\n",
    "    t-=1"
   ]
  },
  {
   "cell_type": "code",
   "execution_count": 2,
   "metadata": {},
   "outputs": [
    {
     "name": "stdout",
     "output_type": "stream",
     "text": [
      "1\n"
     ]
    }
   ],
   "source": [
    "# print longest common substring\n",
    "n=int(input())\n",
    "while(t!=0):\n",
    "    n1,n2=list(map(int,input().split()))\n",
    "    string1=input()\n",
    "    string2=input()\n",
    "    l1=len(string1)\n",
    "    count=0\n",
    "    for i in range(l1):\n",
    "        for x in range(i+1,l1+1):\n",
    "            t1=str(strng1[i:x])\n",
    "            len1=len(t1)\n",
    "            if(t1 in string2):\n",
    "                if(len1>count):\n",
    "                    count=len1\n",
    "    print(count)\n",
    "    t-=1\n",
    "    \n",
    "            "
   ]
  },
  {
   "cell_type": "code",
   "execution_count": 1,
   "metadata": {},
   "outputs": [
    {
     "name": "stdout",
     "output_type": "stream",
     "text": [
      "6\n",
      "1.01,1.02,1.98,1.99,2.7,2.9\n",
      "4\n"
     ]
    }
   ],
   "source": [
    "# efficient janitor problem\n",
    "n=int(input())\n",
    "inp=list(map(float,input().split(\",\")))\n",
    "inp.sort()\n",
    "left_index=0\n",
    "trip=0\n",
    "for i in range(n-1,-1,-1):\n",
    "    if(inp[i]>1.99):\n",
    "        trip+=1\n",
    "    elif((inp[i]+inp[left_index])<=3.0):\n",
    "        left_index+=1\n",
    "        trip+=1\n",
    "    if(left_index>=i):\n",
    "        print(trip)\n",
    "        break\n",
    "    \n",
    "        \n",
    "            "
   ]
  },
  {
   "cell_type": "code",
   "execution_count": 2,
   "metadata": {},
   "outputs": [
    {
     "name": "stdout",
     "output_type": "stream",
     "text": [
      "4\n",
      "1211\n"
     ]
    }
   ],
   "source": [
    "def count_and_say(n):\n",
    "    result=\"1\"\n",
    "    while(n>1):\n",
    "        current=\"\"\n",
    "        i=0\n",
    "        while(i<len(result)):\n",
    "            count=1\n",
    "            while((i+1)<len(result) and result[i]==result[i+1]):\n",
    "                count+=1\n",
    "                i+=1\n",
    "            current+=str(count)+result[i]\n",
    "            i+=1\n",
    "        result=current\n",
    "        n-=1\n",
    "    return result\n",
    "\n",
    "n=int(input())\n",
    "print(count_and_say(n))"
   ]
  },
  {
   "cell_type": "code",
   "execution_count": null,
   "metadata": {},
   "outputs": [],
   "source": [
    "n=int(input())\n",
    "lst=list(map(int,input().split()))\n",
    "k=int(input())\n",
    "count=0\n",
    "for i in range(len(lst)):\n",
    "    t1=lst[i]//k\n",
    "    t2=lst[i]%k\n",
    "    count+=t1\n",
    "    if(t2!=0):\n",
    "        count+=1\n",
    "        \n",
    "if(count%2==0):\n",
    "    print(\"alex wins the game\")\n",
    "else:\n",
    "    print(\"sam wins the game\")"
   ]
  },
  {
   "cell_type": "code",
   "execution_count": 1,
   "metadata": {},
   "outputs": [
    {
     "name": "stdout",
     "output_type": "stream",
     "text": [
      "6\n",
      "3\n",
      "1 3 2 6 1 2\n",
      "5\n"
     ]
    }
   ],
   "source": [
    "n=int(input())\n",
    "k=int(input())\n",
    "lst=list(map(int,input().split()))\n",
    "count=0\n",
    "for i in range(len(lst)):\n",
    "    for j in range(i+1,len(lst)):\n",
    "        if((lst[i]+lst[j])%k==0):\n",
    "            count+=1\n",
    "print(count)"
   ]
  },
  {
   "cell_type": "code",
   "execution_count": 9,
   "metadata": {},
   "outputs": [
    {
     "name": "stdout",
     "output_type": "stream",
     "text": [
      "3\n",
      "7\n"
     ]
    }
   ],
   "source": [
    "n=int(input())\n",
    "flag=0\n",
    "count=0\n",
    "k=2\n",
    "for i in range(n+1):\n",
    "    for j in range(n+1):\n",
    "        t=(i+j)\n",
    "        m=t//2\n",
    "        while(k<=m and i<j):\n",
    "            if(t%k==0 ):\n",
    "                flag=1\n",
    "                break\n",
    "            else:\n",
    "                break\n",
    "            k+=1\n",
    "        if(flag==0):\n",
    "            count+=1\n",
    "print(count)"
   ]
  },
  {
   "cell_type": "code",
   "execution_count": 2,
   "metadata": {},
   "outputs": [
    {
     "name": "stdout",
     "output_type": "stream",
     "text": [
      "Abhishek:34848,Mayur:4739,Yeah:9889\n",
      "kuX\n"
     ]
    }
   ],
   "source": [
    "# password generator\n",
    "inp1=input()\n",
    "str=''\n",
    "inp=[]\n",
    "t1=[]\n",
    "inp=inp1.split(',')\n",
    "for i in inp:\n",
    "    t1=i.split(':')\n",
    "    n1=t1[0]\n",
    "    n2=t1[1]\n",
    "    length=len(n1)\n",
    "    max=0\n",
    "    for i in n2:\n",
    "        if(int(i)<=length):\n",
    "            if(max<int(i)):\n",
    "                max=int(i)\n",
    "    if(max==0):\n",
    "        str+='X'\n",
    "    else:\n",
    "        str+=n1[max-1]\n",
    "print(str)\n",
    "    \n",
    "        "
   ]
  },
  {
   "cell_type": "code",
   "execution_count": 1,
   "metadata": {},
   "outputs": [
    {
     "name": "stdout",
     "output_type": "stream",
     "text": [
      "4365188\n",
      "9256\n"
     ]
    }
   ],
   "source": [
    "inp=input()\n",
    "length=len(inp)\n",
    "st=''\n",
    "for i in range(1,length,2):\n",
    "    st+=str(int(inp[i])**2)\n",
    "print(st[0:4])"
   ]
  },
  {
   "cell_type": "code",
   "execution_count": 3,
   "metadata": {},
   "outputs": [
    {
     "name": "stdout",
     "output_type": "stream",
     "text": [
      "{{[]}}}\n",
      "7\n"
     ]
    }
   ],
   "source": [
    "inp=input()\n",
    "left=0\n",
    "right=0\n",
    "length=len(inp)\n",
    "for i in inp:\n",
    "    if(i=='(' or i=='{' or i=='['):\n",
    "        left+=1\n",
    "    elif(i==')' or i=='}' or i==']'):\n",
    "        right+=1\n",
    "if(left>right):\n",
    "    print((left+right+1))\n",
    "else:\n",
    "    print((left+right))"
   ]
  },
  {
   "cell_type": "code",
   "execution_count": 5,
   "metadata": {},
   "outputs": [
    {
     "name": "stdout",
     "output_type": "stream",
     "text": [
      "intell#ect\n",
      "tcelle#tni\n"
     ]
    }
   ],
   "source": [
    "import re\n",
    "s1=input()\n",
    "s2=re.findall(\"[a-zA-Z]\",s1)\n",
    "s2.reverse()\n",
    "for i in range(len(s1)):\n",
    "    if(s1[i]=='@' or s1[i]=='#'):\n",
    "        s2.insert(i,s1[i])\n",
    "        \n",
    "print(''.join(s2))\n"
   ]
  },
  {
   "cell_type": "code",
   "execution_count": 3,
   "metadata": {},
   "outputs": [
    {
     "name": "stdout",
     "output_type": "stream",
     "text": [
      "5\n",
      "3 1\n",
      "3 2\n",
      "2 4\n",
      "2 5\n",
      "1 1 2 2 1\n",
      "4\n",
      "2\n",
      "4\n",
      "5\n",
      "1\n",
      "1\n"
     ]
    },
    {
     "ename": "TypeError",
     "evalue": "'map' object is not callable",
     "output_type": "error",
     "traceback": [
      "\u001b[1;31m---------------------------------------------------------------------------\u001b[0m",
      "\u001b[1;31mTypeError\u001b[0m                                 Traceback (most recent call last)",
      "\u001b[1;32m<ipython-input-3-70ee2655a687>\u001b[0m in \u001b[0;36m<module>\u001b[1;34m\u001b[0m\n\u001b[0;32m      9\u001b[0m     \u001b[0mmarked_special\u001b[0m\u001b[1;33m=\u001b[0m\u001b[0mint\u001b[0m\u001b[1;33m(\u001b[0m\u001b[0minput\u001b[0m\u001b[1;33m(\u001b[0m\u001b[1;33m)\u001b[0m\u001b[1;33m)\u001b[0m\u001b[1;33m\u001b[0m\u001b[1;33m\u001b[0m\u001b[0m\n\u001b[0;32m     10\u001b[0m     \u001b[1;32mfor\u001b[0m \u001b[0mi\u001b[0m \u001b[1;32min\u001b[0m \u001b[0mrange\u001b[0m\u001b[1;33m(\u001b[0m\u001b[0mno_of_nodes\u001b[0m\u001b[1;33m)\u001b[0m\u001b[1;33m:\u001b[0m\u001b[1;33m\u001b[0m\u001b[1;33m\u001b[0m\u001b[0m\n\u001b[1;32m---> 11\u001b[1;33m         \u001b[1;32mif\u001b[0m\u001b[1;33m(\u001b[0m\u001b[0mcolor\u001b[0m\u001b[1;33m(\u001b[0m\u001b[0mmarked_special\u001b[0m\u001b[1;33m-\u001b[0m\u001b[1;36m1\u001b[0m\u001b[1;33m)\u001b[0m\u001b[1;33m==\u001b[0m\u001b[0mcolor\u001b[0m\u001b[1;33m[\u001b[0m\u001b[0mi\u001b[0m\u001b[1;33m]\u001b[0m \u001b[1;32mand\u001b[0m \u001b[1;33m(\u001b[0m\u001b[0mmarked_special\u001b[0m\u001b[1;33m-\u001b[0m\u001b[1;36m1\u001b[0m\u001b[1;33m)\u001b[0m\u001b[1;33m!=\u001b[0m\u001b[0mi\u001b[0m\u001b[1;33m)\u001b[0m\u001b[1;33m:\u001b[0m\u001b[1;33m\u001b[0m\u001b[1;33m\u001b[0m\u001b[0m\n\u001b[0m\u001b[0;32m     12\u001b[0m             \u001b[1;32mfor\u001b[0m \u001b[0mx\u001b[0m\u001b[1;33m,\u001b[0m\u001b[0my\u001b[0m \u001b[1;32min\u001b[0m \u001b[0mu\u001b[0m\u001b[1;33m,\u001b[0m\u001b[0mv\u001b[0m\u001b[1;33m:\u001b[0m\u001b[1;33m\u001b[0m\u001b[1;33m\u001b[0m\u001b[0m\n\u001b[0;32m     13\u001b[0m                 \u001b[1;32mif\u001b[0m\u001b[1;33m(\u001b[0m\u001b[0mx\u001b[0m\u001b[1;33m==\u001b[0m\u001b[1;33m(\u001b[0m\u001b[0mmarked_special\u001b[0m\u001b[1;33m)\u001b[0m \u001b[1;32mand\u001b[0m \u001b[0my\u001b[0m\u001b[1;33m==\u001b[0m\u001b[1;33m(\u001b[0m\u001b[0mi\u001b[0m\u001b[1;33m+\u001b[0m\u001b[1;36m1\u001b[0m\u001b[1;33m)\u001b[0m\u001b[1;33m)\u001b[0m\u001b[1;33m:\u001b[0m\u001b[1;33m\u001b[0m\u001b[1;33m\u001b[0m\u001b[0m\n",
      "\u001b[1;31mTypeError\u001b[0m: 'map' object is not callable"
     ]
    }
   ],
   "source": [
    "no_of_nodes=int(input())\n",
    "for i in range((no_of_nodes-1)):\n",
    "    u,v=(map(int,input().split()))\n",
    "for i in range((no_of_nodes)):\n",
    "    color=(map(int,input().split()))\n",
    "queries=int(input())\n",
    "count=0\n",
    "for i in range(queries):\n",
    "    marked_special=int(input())\n",
    "    for i in range(no_of_nodes):\n",
    "        if(color(marked_special-1)==color[i] and (marked_special-1)!=i):\n",
    "            for x,y in u,v:\n",
    "                if(x==(marked_special) and y==(i+1)):\n",
    "                    count+=1\n",
    "            count+=1\n",
    "        print(count)\n",
    "\n",
    "\n"
   ]
  },
  {
   "cell_type": "markdown",
   "metadata": {},
   "source": [
    "def Solve (N):\n",
    "    lst=[]\n",
    "    half=N//2\n",
    "    for i in range(1,(half+1),1):\n",
    "        if((N%i)==0):\n",
    "            lst.append(i)\n",
    "    return(sum(lst))    \n",
    "\n",
    "T = int(input())\n",
    "for _ in range(T):\n",
    "    N = int(input())\n",
    "    out_ = Solve(N)\n",
    "    print (out_)"
   ]
  },
  {
   "cell_type": "code",
   "execution_count": null,
   "metadata": {},
   "outputs": [],
   "source": [
    "\n"
   ]
  },
  {
   "cell_type": "code",
   "execution_count": 4,
   "metadata": {},
   "outputs": [
    {
     "name": "stdout",
     "output_type": "stream",
     "text": [
      "1\n",
      "6\n"
     ]
    },
    {
     "ename": "NameError",
     "evalue": "name 'YES' is not defined",
     "output_type": "error",
     "traceback": [
      "\u001b[1;31m---------------------------------------------------------------------------\u001b[0m",
      "\u001b[1;31mNameError\u001b[0m                                 Traceback (most recent call last)",
      "\u001b[1;32m<ipython-input-4-34edf3ddb263>\u001b[0m in \u001b[0;36m<module>\u001b[1;34m\u001b[0m\n\u001b[0;32m     13\u001b[0m \u001b[1;32mfor\u001b[0m \u001b[0m_\u001b[0m \u001b[1;32min\u001b[0m \u001b[0mrange\u001b[0m\u001b[1;33m(\u001b[0m\u001b[0mT\u001b[0m\u001b[1;33m)\u001b[0m\u001b[1;33m:\u001b[0m\u001b[1;33m\u001b[0m\u001b[1;33m\u001b[0m\u001b[0m\n\u001b[0;32m     14\u001b[0m     \u001b[0mN\u001b[0m \u001b[1;33m=\u001b[0m \u001b[0mint\u001b[0m\u001b[1;33m(\u001b[0m\u001b[0minput\u001b[0m\u001b[1;33m(\u001b[0m\u001b[1;33m)\u001b[0m\u001b[1;33m)\u001b[0m\u001b[1;33m\u001b[0m\u001b[1;33m\u001b[0m\u001b[0m\n\u001b[1;32m---> 15\u001b[1;33m     \u001b[0mout_\u001b[0m \u001b[1;33m=\u001b[0m \u001b[0mSolve\u001b[0m\u001b[1;33m(\u001b[0m\u001b[0mN\u001b[0m\u001b[1;33m)\u001b[0m\u001b[1;33m\u001b[0m\u001b[1;33m\u001b[0m\u001b[0m\n\u001b[0m\u001b[0;32m     16\u001b[0m     \u001b[0mprint\u001b[0m \u001b[1;33m(\u001b[0m\u001b[0mout_\u001b[0m\u001b[1;33m)\u001b[0m\u001b[1;33m\u001b[0m\u001b[1;33m\u001b[0m\u001b[0m\n",
      "\u001b[1;32m<ipython-input-4-34edf3ddb263>\u001b[0m in \u001b[0;36mSolve\u001b[1;34m(N)\u001b[0m\n\u001b[0;32m      6\u001b[0m             \u001b[0mlst\u001b[0m\u001b[1;33m.\u001b[0m\u001b[0mappend\u001b[0m\u001b[1;33m(\u001b[0m\u001b[0mi\u001b[0m\u001b[1;33m)\u001b[0m\u001b[1;33m\u001b[0m\u001b[1;33m\u001b[0m\u001b[0m\n\u001b[0;32m      7\u001b[0m     \u001b[1;32mif\u001b[0m\u001b[1;33m(\u001b[0m\u001b[0msum\u001b[0m\u001b[1;33m(\u001b[0m\u001b[0mlst\u001b[0m\u001b[1;33m)\u001b[0m\u001b[1;33m==\u001b[0m\u001b[0mN\u001b[0m\u001b[1;33m)\u001b[0m\u001b[1;33m:\u001b[0m\u001b[1;33m\u001b[0m\u001b[1;33m\u001b[0m\u001b[0m\n\u001b[1;32m----> 8\u001b[1;33m         \u001b[1;32mreturn\u001b[0m \u001b[0mYES\u001b[0m\u001b[1;33m\u001b[0m\u001b[1;33m\u001b[0m\u001b[0m\n\u001b[0m\u001b[0;32m      9\u001b[0m     \u001b[1;32melse\u001b[0m\u001b[1;33m:\u001b[0m\u001b[1;33m\u001b[0m\u001b[1;33m\u001b[0m\u001b[0m\n\u001b[0;32m     10\u001b[0m         \u001b[1;32mreturn\u001b[0m \u001b[0mNO\u001b[0m\u001b[1;33m\u001b[0m\u001b[1;33m\u001b[0m\u001b[0m\n",
      "\u001b[1;31mNameError\u001b[0m: name 'YES' is not defined"
     ]
    }
   ],
   "source": [
    "def Solve (N):\n",
    "    lst=[]\n",
    "    half=N//2\n",
    "    for i in range(1,(half+1),1):\n",
    "        if((N%i)==0):\n",
    "            lst.append(i)\n",
    "    if(sum(lst)==N):\n",
    "        return YES\n",
    "    else:\n",
    "        return NO    \n",
    "\n",
    "T = int(input())\n",
    "for _ in range(T):\n",
    "    N = int(input())\n",
    "    out_ = Solve(N)\n",
    "    print (out_)"
   ]
  },
  {
   "cell_type": "code",
   "execution_count": null,
   "metadata": {},
   "outputs": [],
   "source": [
    "T=int(input())\n",
    "while(T!=0):\n",
    "    t_list=[]\n",
    "    t1=[]\n",
    "    N,M=(map(int,input().split()))\n",
    "    lst=list(map(int,input().split()))\n",
    "    diff=(N-M)\n",
    "    for i in range(diff+1):\n",
    "        t1=max(lst[i:diff+1])\n",
    "    \n",
    "    t_list.insert(0,sum(lst[0:diff+1]))\n",
    "    k=1\n",
    "    for i in range(diff+1,len(lst)):\n",
    "        t_list.insert(k,(lst[i]))\n",
    "        k+=1\n",
    "    print(max(t_list))\n",
    "    T-=1\n",
    "    \n"
   ]
  },
  {
   "cell_type": "markdown",
   "metadata": {},
   "source": []
  },
  {
   "cell_type": "code",
   "execution_count": 3,
   "metadata": {},
   "outputs": [
    {
     "name": "stdout",
     "output_type": "stream",
     "text": [
      "1 2 3 4 5 6\n",
      "6\n",
      "3\n",
      "False\n"
     ]
    }
   ],
   "source": [
    "inp=list(map(int,input().split()))\n",
    "k=int(input())\n",
    "m=int(input())\n",
    "t=inp[0]\n",
    "count=1\n",
    "flag=True\n",
    "for i in range(1,len(inp)):\n",
    "    if((t+inp[i])>k):\n",
    "        t=inp[i]\n",
    "        count+=1\n",
    "    else:\n",
    "        t+=inp[i]\n",
    "    if(count>m):\n",
    "        flag=False\n",
    "        break\n",
    "print(flag)"
   ]
  },
  {
   "cell_type": "code",
   "execution_count": null,
   "metadata": {},
   "outputs": [],
   "source": [
    "# real qsn ..k is not given\n",
    "T=int(input())\n",
    "while(T!=0):\n",
    "    inp=list(map(int,input().split()))\n",
    "    m=int(input())\n",
    "    t=inp[0]\n",
    "    count=1\n",
    "    k=1\n",
    "    flag=True\n",
    "    for i in range(1,len(inp)):\n",
    "        if((t+inp[i])>k):\n",
    "            t=inp[i]\n",
    "            count+=1\n",
    "        else:\n",
    "            t+=inp[i]\n",
    "        if(count>m):\n",
    "            flag=False\n",
    "            break\n",
    "    print(flag)"
   ]
  },
  {
   "cell_type": "code",
   "execution_count": null,
   "metadata": {},
   "outputs": [
    {
     "name": "stdout",
     "output_type": "stream",
     "text": [
      "1\n",
      "5 3\n",
      "1 2 3 4 5\n"
     ]
    }
   ],
   "source": [
    "T=int(input())\n",
    "while(T!=0):\n",
    "    N,M=map(int,input().split())\n",
    "    lst=list(map(int,input().split()))\n",
    "    t=inp[0]\n",
    "    count=1\n",
    "    k=1\n",
    "    flag=True\n",
    "    while(True):\n",
    "        for i in range(1,len(lst)):\n",
    "            if((t+inp[i])>k):\n",
    "                t=inp[i]\n",
    "                count+=1\n",
    "            else:\n",
    "                t+=inp[i]\n",
    "            if(count>m):\n",
    "                flag=False\n",
    "                break\n",
    "        if(flag):\n",
    "            print(k)\n",
    "            break\n",
    "        else:\n",
    "            k+=1\n",
    "    T-=1"
   ]
  },
  {
   "cell_type": "code",
   "execution_count": null,
   "metadata": {},
   "outputs": [],
   "source": [
    "def possible(inp,M,k):\n",
    "    t=inp[0]\n",
    "    count=1\n",
    "    flag=True\n",
    "    for i in range(1,len(inp)):\n",
    "        if((t+inp[i])>k):\n",
    "            t=inp[i]\n",
    "            count+=1\n",
    "        else:\n",
    "            t+=inp[i]\n",
    "        if(count>M):\n",
    "            flag=False\n",
    "            break\n",
    "    return (flag)\n",
    "        \n",
    "T=int(input())\n",
    "while(T!=0):\n",
    "    t1=[]\n",
    "    s=list(map(int,input().split()))\n",
    "    m=s[1]\n",
    "    n=s[0]\n",
    "    inp=list(map(int,input().split()))\n",
    "    left=max(inp)\n",
    "    right=sum(inp)\n",
    "    mid=(left+right)//2\n",
    "    while(left<=right):\n",
    "        if(possible(inp,m,mid)):\n",
    "            t1.append(mid)\n",
    "            right=mid-1\n",
    "        else:\n",
    "            left=mid+1\n",
    "        mid=(left+right)//2\n",
    "    T-=1\n",
    "    print(min(t1))"
   ]
  },
  {
   "cell_type": "code",
   "execution_count": 1,
   "metadata": {},
   "outputs": [
    {
     "name": "stdout",
     "output_type": "stream",
     "text": [
      "12\n",
      "no\n"
     ]
    }
   ],
   "source": [
    "n=int(input())\n",
    "divisors=[]\n",
    "divisors=set([1])\n",
    "i=2\n",
    "while(i*i<=n):\n",
    "    if(n==1):\n",
    "        print(\"no\")\n",
    "        continue\n",
    "    if(n%i==0):\n",
    "        divisors.add(i)\n",
    "        divisors.add(n//i)\n",
    "    i+=1\n",
    "div_sum=sum(divisors)\n",
    "if(div_sum==n):\n",
    "    print(\"yes\")\n",
    "else:\n",
    "    print(\"no\")"
   ]
  },
  {
   "cell_type": "code",
   "execution_count": 17,
   "metadata": {},
   "outputs": [
    {
     "name": "stdout",
     "output_type": "stream",
     "text": [
      "9 10 9 4 5 7 2 8 20 21\n",
      "15\n",
      "2\n",
      "1\n",
      "0\n",
      "1\n",
      "0\n",
      "0\n",
      "4\n"
     ]
    }
   ],
   "source": [
    "# finding sum using 0(n)\n",
    "arr=list(map(int,input().split()))\n",
    "arr=arr[1:]\n",
    "m=int(input())\n",
    "# creating dictionary\n",
    "remainders={}\n",
    "for num in arr:\n",
    "    curr_rem=num%m\n",
    "    if curr_rem in remainders:\n",
    "        remainders[curr_rem]+=1\n",
    "    else:\n",
    "        remainders[curr_rem]=1\n",
    "# calculating num_pairs\n",
    "num_pairs=0\n",
    "for rem in remainders:\n",
    "    pairs=0\n",
    "    complement=m-rem\n",
    "    if complement==m  or(2*complement==m) or rem==0:\n",
    "        pairs=(remainders[rem]*(remainders[rem]-1))//2\n",
    "        \n",
    "    elif complement in remainders:\n",
    "        pairs=remainders[rem]*remainders[complement]\n",
    "        remainders[rem]=0\n",
    "    num_pairs+=pairs\n",
    "print(num_pairs)\n",
    "        "
   ]
  },
  {
   "cell_type": "code",
   "execution_count": 3,
   "metadata": {},
   "outputs": [
    {
     "name": "stdout",
     "output_type": "stream",
     "text": [
      "0 0\n"
     ]
    }
   ],
   "source": [
    "dict={10:1,15:2}\n",
    "k=40\n",
    "pair=0\n",
    "flag=0\n",
    "for i in dict:\n",
    "    compel=k-i\n",
    "    if compel in dict:\n",
    "        pair+=dict[i]*dict[compel]\n",
    "        dict[i]=0\n",
    "        flag=1\n",
    "print(flag, pair)"
   ]
  },
  {
   "cell_type": "markdown",
   "metadata": {},
   "source": [
    "# Binary tree"
   ]
  },
  {
   "cell_type": "code",
   "execution_count": 7,
   "metadata": {},
   "outputs": [
    {
     "ename": "AttributeError",
     "evalue": "'BinaryTree' object has no attribute 'print_tree'",
     "output_type": "error",
     "traceback": [
      "\u001b[1;31m---------------------------------------------------------------------------\u001b[0m",
      "\u001b[1;31mAttributeError\u001b[0m                            Traceback (most recent call last)",
      "\u001b[1;32m<ipython-input-7-f4e55e863675>\u001b[0m in \u001b[0;36m<module>\u001b[1;34m\u001b[0m\n\u001b[0;32m     27\u001b[0m \u001b[0mtree\u001b[0m\u001b[1;33m.\u001b[0m\u001b[0mroot\u001b[0m\u001b[1;33m.\u001b[0m\u001b[0mleft\u001b[0m\u001b[1;33m=\u001b[0m\u001b[0mNode\u001b[0m\u001b[1;33m(\u001b[0m\u001b[1;36m2\u001b[0m\u001b[1;33m)\u001b[0m\u001b[1;33m\u001b[0m\u001b[1;33m\u001b[0m\u001b[0m\n\u001b[0;32m     28\u001b[0m \u001b[0mtree\u001b[0m\u001b[1;33m.\u001b[0m\u001b[0mroot\u001b[0m\u001b[1;33m.\u001b[0m\u001b[0mright\u001b[0m\u001b[1;33m=\u001b[0m\u001b[0mNode\u001b[0m\u001b[1;33m(\u001b[0m\u001b[1;36m3\u001b[0m\u001b[1;33m)\u001b[0m\u001b[1;33m\u001b[0m\u001b[1;33m\u001b[0m\u001b[0m\n\u001b[1;32m---> 29\u001b[1;33m \u001b[0mtree\u001b[0m\u001b[1;33m.\u001b[0m\u001b[0mprint_tree\u001b[0m\u001b[1;33m(\u001b[0m\u001b[1;34m\"preorder\"\u001b[0m\u001b[1;33m)\u001b[0m\u001b[1;33m\u001b[0m\u001b[1;33m\u001b[0m\u001b[0m\n\u001b[0m",
      "\u001b[1;31mAttributeError\u001b[0m: 'BinaryTree' object has no attribute 'print_tree'"
     ]
    }
   ],
   "source": [
    "class Node(object):\n",
    "        def __init__(self,value):\n",
    "            self.value=value\n",
    "            self.left=None\n",
    "            self.right=None\n",
    "\n",
    "class BinaryTree(object):\n",
    "    def __init__(self,root):\n",
    "        self.root=Node(root)\n",
    "\n",
    "\n",
    "def print_tree(self,traversal_type):\n",
    "    if traversal_type==\"preorder\":\n",
    "        return self.preorder_print(tree.root,\"\")\n",
    "    \n",
    "\n",
    "def preorder_print(self,start,traversal):\n",
    "    \"\"\" root->left->right\"\"\"\n",
    "    if start:\n",
    "        traversal+=(str(start.value)+\"_\")\n",
    "        traversal=self.preorder_print(start.left,traversal)\n",
    "        traversal=self.preorder_print(start.right,traversal)\n",
    "    return traversal\n",
    "\n",
    "\n",
    "tree=BinaryTree(1)\n",
    "tree.root.left=Node(2)\n",
    "tree.root.right=Node(3)\n",
    "tree.print_tree(\"preorder\")\n"
   ]
  },
  {
   "cell_type": "code",
   "execution_count": 14,
   "metadata": {},
   "outputs": [
    {
     "name": "stdout",
     "output_type": "stream",
     "text": [
      "1 2 3 1 3 6 6\n",
      "1 3 6 "
     ]
    }
   ],
   "source": [
    "inp=list(map(int,input().split()))\n",
    "lst=[0]*100001\n",
    "for i in (inp):\n",
    "    if(lst[i]>=1):\n",
    "        lst[i]+=1\n",
    "#         print(lst[inp[i]])\n",
    "    else:\n",
    "        lst[i]=1\n",
    "count=0\n",
    "for i in range(len(inp)):\n",
    "    if(lst[i]>1):\n",
    "        print(i,end=\" \")\n",
    "        count+=1\n",
    "if(count==0):\n",
    "    print(\"-1\")\n",
    "        \n"
   ]
  },
  {
   "cell_type": "code",
   "execution_count": 4,
   "metadata": {},
   "outputs": [
    {
     "name": "stdout",
     "output_type": "stream",
     "text": [
      "28\n"
     ]
    }
   ],
   "source": [
    "import sys\n",
    "a=2\n",
    "b=3\n",
    "print(sys.getsizeof(b))"
   ]
  },
  {
   "cell_type": "code",
   "execution_count": 7,
   "metadata": {},
   "outputs": [
    {
     "name": "stdout",
     "output_type": "stream",
     "text": [
      "28\n"
     ]
    }
   ],
   "source": [
    "import sys\n",
    "x=112\n",
    "print(sys.getsizeof(x))"
   ]
  },
  {
   "cell_type": "code",
   "execution_count": 8,
   "metadata": {},
   "outputs": [
    {
     "name": "stdout",
     "output_type": "stream",
     "text": [
      "64\n"
     ]
    }
   ],
   "source": [
    "import sys\n",
    "s=[]\n",
    "print(sys.getsizeof(s))"
   ]
  },
  {
   "cell_type": "code",
   "execution_count": 1,
   "metadata": {},
   "outputs": [],
   "source": [
    "# spider is basically a python program which scrapes other websites"
   ]
  },
  {
   "cell_type": "code",
   "execution_count": null,
   "metadata": {},
   "outputs": [
    {
     "name": "stdout",
     "output_type": "stream",
     "text": [
      "2 \n",
      "4\n",
      "1 2 4 8\n",
      "60\n"
     ]
    }
   ],
   "source": [
    "\n",
    "T = int(input())\n",
    "for i in range(T):\n",
    "    N = int(input())\n",
    "    lst = list(map(int, input().split()))\n",
    "    output = 0\n",
    "    t1=0\n",
    "    for e in range(0,N):\n",
    "        for k in range(e+1,N):\n",
    "            output += (lst[e]^lst[k])\n",
    "    t1+=sum(lst)\n",
    "    output+=t1\n",
    "    print  (output%( 1000000007 ))"
   ]
  },
  {
   "cell_type": "code",
   "execution_count": 1,
   "metadata": {},
   "outputs": [
    {
     "name": "stdout",
     "output_type": "stream",
     "text": [
      "arr2[] is subset of arr1[] \n"
     ]
    }
   ],
   "source": [
    "def isSubset(arr1, arr2, m, n): \n",
    "    i = 0; \n",
    "  \n",
    "    quickSort(arr1, 0, m-1); \n",
    "    for i in range(n): \n",
    "        if (binarySearch(arr1, 0, m - 1,arr2[i]) == -1): \n",
    "            return 0; q\n",
    "      \n",
    "    # If we reach here then all elements \n",
    "    # of arr2[] are present in arr1[]  \n",
    "    return 1; \n",
    "  \n",
    "# FOLLOWING FUNCTIONS ARE ONLY FOR  \n",
    "# SEARCHING AND SORTING PURPOSE \n",
    "# Standard Binary Search function \n",
    "def binarySearch(arr, low, high, x): \n",
    "    if(high >= low): \n",
    "        mid = (low + high)//2; \n",
    "  \n",
    "        # Check if arr[mid] is the first occurrence of x. \n",
    "        # arr[mid] is first occurrence if x is one of the following \n",
    "        # is true: \n",
    "        # (i) mid == 0 and arr[mid] == x \n",
    "        # (ii) arr[mid-1] < x and arr[mid] == x  \n",
    "        if(( mid == 0 or x > arr[mid-1]) and (arr[mid] == x)): \n",
    "            return mid; \n",
    "        elif(x > arr[mid]): \n",
    "            return binarySearch(arr, (mid + 1), high, x); \n",
    "        else: \n",
    "            return binarySearch(arr, low, (mid -1), x); \n",
    "  \n",
    "    return -1; \n",
    "  \n",
    "  \n",
    "def partition(A, si, ei): \n",
    "    x = A[ei]; \n",
    "    i = (si - 1); \n",
    "  \n",
    "    for j in range(si,ei): \n",
    "        if(A[j] <= x): \n",
    "            i+=1; \n",
    "            A[i],A[j] = A[j],A[i]; \n",
    "    A[i + 1],A[ei] = A[ei],A[i+1]; \n",
    "    return (i + 1); \n",
    "  \n",
    "# Implementation of Quick Sort \n",
    "# A[] --> Array to be sorted \n",
    "# si --> Starting index \n",
    "# ei --> Ending index \n",
    "  \n",
    "def quickSort(A, si, ei): \n",
    "    # Partitioning index  \n",
    "    if(si < ei): \n",
    "        pi = partition(A, si, ei); \n",
    "        quickSort(A, si, pi - 1); \n",
    "        quickSort(A, pi + 1, ei); \n",
    "  \n",
    "# Driver code  \n",
    "arr1 = [11, 1, 13, 21, 3, 7]; \n",
    "arr2 = [11, 3, 7, 1]; \n",
    "  \n",
    "m = len(arr1); \n",
    "n = len(arr2); \n",
    "  \n",
    "if(isSubset(arr1, arr2, m, n)): \n",
    "    print(\"arr2[] is subset of arr1[] \"); \n",
    "else: \n",
    "    print(\"arr2[] is not a subset of arr1[] \"); "
   ]
  },
  {
   "cell_type": "code",
   "execution_count": 1,
   "metadata": {},
   "outputs": [
    {
     "name": "stdout",
     "output_type": "stream",
     "text": [
      "88\n"
     ]
    }
   ],
   "source": [
    "import sys\n",
    "lst=[11,12,13]\n",
    "print(sys.getsizeof(lst))"
   ]
  },
  {
   "cell_type": "code",
   "execution_count": 2,
   "metadata": {},
   "outputs": [
    {
     "name": "stdout",
     "output_type": "stream",
     "text": [
      "Empty list created!!!\n",
      "List details:\n",
      "Capacity: 7\n",
      "Size: 0\n",
      "Space Left: 7\n"
     ]
    }
   ],
   "source": [
    "#Do not remove the below import statement\n",
    "import sys\n",
    "\n",
    "'''This function provides the capacity, size and space left in the list.\n",
    "You can invoke it to get the details of the list'''\n",
    "\n",
    "def list_details(lst):\n",
    "    #Number of elements that can be stored in the list\n",
    "    print(\"Capacity:\", (sys.getsizeof(lst)-36)//4)\n",
    "\n",
    "    #Number of elements in the list\n",
    "    print(\"Size:\", len(lst))\n",
    "\n",
    "    #Number of elements that can be accommodated in the space left\n",
    "    print(\"Space Left:\", ((sys.getsizeof(lst)-36) - len(lst*4))//4)\n",
    "\n",
    "    #formula changes based on the system architecture\n",
    "    #(size-36)/4 for 32 bit machines and\n",
    "    #(size-64)/8 for 64 bit machines\n",
    "\n",
    "    # 36, 64 - size of an empty list based on machine\n",
    "    # 4, 8 - size of a single element in the list based on machine\n",
    "\n",
    "marias_lst=[]\n",
    "print(\"Empty list created!!!\")\n",
    "print(\"List details:\")\n",
    "list_details(marias_lst)"
   ]
  },
  {
   "cell_type": "code",
   "execution_count": 10,
   "metadata": {},
   "outputs": [
    {
     "name": "stdout",
     "output_type": "stream",
     "text": [
      "None\n"
     ]
    }
   ],
   "source": [
    "class Node:\n",
    "    def __init__(self,data):\n",
    "        self.__data=data\n",
    "        self.__next=None\n",
    "    \n",
    "    def get_data(self):\n",
    "        return self.__data\n",
    "    \n",
    "    def set_data(self,data):\n",
    "        self.__data=data\n",
    "    \n",
    "    def get_next(self):\n",
    "        return self.__next\n",
    "    \n",
    "    def set_next(self,next_node):\n",
    "        self.__next=next_node\n",
    "\n",
    "class LinkedList:\n",
    "    def __init__(self):\n",
    "        self.__head=None\n",
    "        self.__tail=None\n",
    "    \n",
    "    def get_head(self):\n",
    "        return self.__head\n",
    "    \n",
    "    def get_tail(self):\n",
    "        return self.__tail\n",
    "    \n",
    "    def add(self,data):\n",
    "        New_node=Node(data)\n",
    "        if (self.__head is None):\n",
    "            self.__head=self.__tail=New_node\n",
    "        else:\n",
    "            self.__tail.set_next(New_node)\n",
    "            self.__-tail=New_node\n",
    "        #Remove pass and write the logic to add an element\n",
    "    def display(self):\n",
    "#         pass\n",
    "        #Remove pass and write the logic to display the elements\n",
    "    \n",
    "    #You can use the below __str__() to print the elements of the DS object while debugging\n",
    "        def __str__(self):\n",
    "            temp=self.__head\n",
    "            msg=[]\n",
    "            while(temp is not None):\n",
    "                msg.append(str(temp.get_data()))\n",
    "                temp=temp.get_next()\n",
    "            msg=\" \".join(msg)\n",
    "            msg=\"Linkedlist data(Head to Tail): \"+ msg\n",
    "            return msg\n",
    "\n",
    "list1=LinkedList()\n",
    "list1.add(\"Sugar\")\n",
    "list1.add(\"krishna\")\n",
    "print(list1.display())\n",
    "# print(\"Element added successfully\")\n",
    "#Similarly add all the specified element(s)"
   ]
  },
  {
   "cell_type": "code",
   "execution_count": null,
   "metadata": {},
   "outputs": [],
   "source": []
  }
 ],
 "metadata": {
  "kernelspec": {
   "display_name": "Python 3",
   "language": "python",
   "name": "python3"
  },
  "language_info": {
   "codemirror_mode": {
    "name": "ipython",
    "version": 3
   },
   "file_extension": ".py",
   "mimetype": "text/x-python",
   "name": "python",
   "nbconvert_exporter": "python",
   "pygments_lexer": "ipython3",
   "version": "3.7.4"
  }
 },
 "nbformat": 4,
 "nbformat_minor": 2
}
